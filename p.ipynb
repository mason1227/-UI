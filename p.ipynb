{
 "cells": [
  {
   "cell_type": "code",
   "execution_count": 145,
   "metadata": {},
   "outputs": [],
   "source": [
    "import tkinter as tk\n",
    "from tkinter.constants import CENTER\n",
    "\n",
    "\n",
    "class Window(object):\n",
    "\n",
    "    def __init__(self):\n",
    "\n",
    "        self.root = tk.Tk()\n",
    "        self.root.title(\"爬蟲\")\n",
    "        self.root.geometry('450x500')\n",
    "        # Entry\n",
    "        self.input_account = tk.Entry(self.root, width=40, font=('Courier',9))\n",
    "        self.input_password = tk.Entry(self.root, width=40, font=('Courier',9))\n",
    "        self.input_url = tk.Entry(self.root, width=40, font=('Courier',9))\n",
    "        self.input_keyword = tk.Entry(self.root, width=40, font=('Courier',9))\n",
    "        # Label\n",
    "        self.label_account = tk.Label(self.root, text=\"帳號: \", font=('Courier',9))  \n",
    "        self.label_password = tk.Label(self.root, text=\"密碼: \", font=('Courier',9))  \n",
    "        self.label_url = tk.Label(self.root, text=\"請輸入網址: \", font=('Courier',9))    \n",
    "        self.label_keyword = tk.Label(self.root, text=\"請輸入關鍵字: \", font=('Courier',9))  \n",
    "        # Button\n",
    "        self.start_botton = tk.Button(text = \"開始\",  command=self.start_event, width=30)\n",
    "        self.clear_botton = tk.Button(text = \"清除\",  command=self.clear_event, width=30)\n",
    "    def gui_arrange(self):\n",
    "        # Entry\n",
    "        self.input_account.place(x=110, y=110, height=25)\n",
    "        self.input_password.place(x=110, y=140, height=25)\n",
    "        self.input_url.place(x=110, y=170, height=25)  \n",
    "        self.input_keyword.place(x=110, y=200, height=25)\n",
    "        # Label\n",
    "        self.label_account.place(x=60, y=110)\n",
    "        self.label_password.place(x=60, y=140)\n",
    "        self.label_url.place(x=25, y= 170) \n",
    "        self.label_keyword.place(x=15, y= 200)\n",
    "        # Botton\n",
    "        self.start_botton.place(x=170, y=250, height=30,  width = 150)\n",
    "        self.clear_botton.place(x=170, y=290, height=30,  width = 150)\n",
    "\n",
    "    def start_event(self):\n",
    "        url = self.input_url.get()\n",
    "        keyword = self.input_keyword.get()\n",
    "        account = self.input_account.get()\n",
    "        password = self.input_password.get()\n",
    "        # 接口\n",
    "\n",
    "    def clear_event(self):\n",
    "        self.input_url.delete(0, 'end')\n",
    "        self.input_keyword.delete(0, 'end')\n",
    "        self.input_account.delete(0, 'end')\n",
    "        self.input_password.delete(0, 'end')\n",
    "\n",
    "def main():\n",
    "    window = Window()\n",
    "    window.gui_arrange()\n",
    "    tk.mainloop()\n",
    "\n",
    "if __name__ == '__main__':  \n",
    "    main() \n",
    "\n",
    "\n"
   ]
  }
 ],
 "metadata": {
  "kernelspec": {
   "display_name": "base",
   "language": "python",
   "name": "python3"
  },
  "language_info": {
   "codemirror_mode": {
    "name": "ipython",
    "version": 3
   },
   "file_extension": ".py",
   "mimetype": "text/x-python",
   "name": "python",
   "nbconvert_exporter": "python",
   "pygments_lexer": "ipython3",
   "version": "3.9.12"
  },
  "orig_nbformat": 4,
  "vscode": {
   "interpreter": {
    "hash": "263930470851f494f0ed2879c35b57985588df20f9e529b86e97dd5eb9ddc466"
   }
  }
 },
 "nbformat": 4,
 "nbformat_minor": 2
}
